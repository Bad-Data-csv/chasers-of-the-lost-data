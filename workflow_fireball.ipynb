{
 "cells": [
  {
   "cell_type": "markdown",
   "metadata": {},
   "source": [
    "# Fireball and Bolide Reports"
   ]
  },
  {
   "cell_type": "markdown",
   "metadata": {},
   "source": [
    "O código a seguir importa as bibliotecas usadas para preencher os dados perdidos na tabela."
   ]
  },
  {
   "cell_type": "code",
   "execution_count": 4,
   "metadata": {},
   "outputs": [],
   "source": [
    "import pandas as pd\n",
    "import numpy as np\n",
    "import matplotlib.pyplot as plt\n",
    "from sklearn.experimental import enable_iterative_imputer\n",
    "from sklearn.impute import IterativeImputer"
   ]
  },
  {
   "cell_type": "code",
   "execution_count": 5,
   "metadata": {},
   "outputs": [],
   "source": [
    "data = pd.read_csv(\"data/Fireball_And_Bolide_Reports.csv\")"
   ]
  },
  {
   "cell_type": "markdown",
   "metadata": {},
   "source": [
    "Os dados listados no arquivo csv são mostrados abaixo."
   ]
  },
  {
   "cell_type": "code",
   "execution_count": 6,
   "metadata": {},
   "outputs": [
    {
     "data": {
      "image/png": "[encoded data removed]",
      "text/plain": [
       "<Figure size 432x288 with 1 Axes>"
      ]
     },
     "metadata": {
      "needs_background": "light"
     },
     "output_type": "display_data"
    }
   ],
   "source": [
    "dc = list(data.columns)\n",
    "\n",
    "count = data.count()\n",
    "\n",
    "values = []\n",
    "for c in count:\n",
    "    values.append(c)\n",
    "\n",
    "y_pos = np.arange(len(dc))\n",
    "\n",
    "plt.bar(y_pos, values)\n",
    "plt.xticks(y_pos, dc, rotation=90)\n",
    "\n",
    "plt.show()    "
   ]
  },
  {
   "cell_type": "markdown",
   "metadata": {},
   "source": [
    "Convertendo DataFrame em um array numpy."
   ]
  },
  {
   "cell_type": "code",
   "execution_count": 7,
   "metadata": {},
   "outputs": [
    {
     "data": {
      "image/png": "[encoded data removed]",
      "text/plain": [
       "<Figure size 432x288 with 1 Axes>"
      ]
     },
     "metadata": {},
     "output_type": "display_data"
    }
   ],
   "source": [
    "perc_m = (100*((max(values)*len(dc)) - sum(values)))/(max(values)*len(dc))\n",
    "perc_e = 100-perc_m\n",
    "\n",
    "\n",
    "labels = 'Missing', 'Present'\n",
    "sizes = [perc_m, perc_e]\n",
    "explode = (0, 0.1)  # only \"explode\" the 2nd slice (i.e. 'Hogs')\n",
    "\n",
    "fig1, ax1 = plt.subplots()\n",
    "ax1.pie(sizes, explode=explode, labels=labels, autopct='%1.1f%%',\n",
    "        shadow=True, startangle=90)\n",
    "ax1.axis('equal')  # Equal aspect ratio ensures that pie is drawn as a circle.\n",
    "\n",
    "plt.show()"
   ]
  },
  {
   "cell_type": "code",
   "execution_count": 8,
   "metadata": {},
   "outputs": [],
   "source": [
    "data1 = pd.DataFrame(data).to_numpy()"
   ]
  },
  {
   "cell_type": "markdown",
   "metadata": {},
   "source": [
    "Crie o modelo ImperativeImputer, um Multivariate Imputer que estima cada recurso de todos os outros.\n",
    "Uma estratégia para imputar valores ausentes, modelando cada recurso com valores ausentes como uma função de outros recursos de maneira alternada."
   ]
  },
  {
   "cell_type": "code",
   "execution_count": 9,
   "metadata": {},
   "outputs": [
    {
     "data": {
      "text/plain": [
       "IterativeImputer(add_indicator=False, estimator=None,\n",
       "                 imputation_order='ascending', initial_strategy='mean',\n",
       "                 max_iter=10, max_value=None, min_value=None,\n",
       "                 missing_values=nan, n_nearest_features=None, random_state=0,\n",
       "                 sample_posterior=False, tol=0.001, verbose=0)"
      ]
     },
     "execution_count": 9,
     "metadata": {},
     "output_type": "execute_result"
    }
   ],
   "source": [
    "imp = IterativeImputer(max_iter = 10, random_state = 0)\n",
    "\n",
    "imp.fit(data1[:, 3:])"
   ]
  },
  {
   "cell_type": "markdown",
   "metadata": {},
   "source": [
    "Define um valor para campos em branco com base na análise de campos preenchidos."
   ]
  },
  {
   "cell_type": "code",
   "execution_count": 10,
   "metadata": {},
   "outputs": [
    {
     "data": {
      "text/plain": [
       "array([[ 3.80e+01,  3.20e+01,  3.00e+00, -1.70e+01, -2.70e+01,  1.00e+13,\n",
       "         1.80e+01],\n",
       "       [ 3.60e+01,  2.50e+01, -1.10e+01, -8.00e+00,  1.20e+01,  1.39e+11,\n",
       "         0.00e+00],\n",
       "       [ 4.40e+01,  1.80e+01,  1.40e+01,  5.00e+00,  6.00e+00,  3.09e+11,\n",
       "         1.00e+00],\n",
       "       [ 2.20e+01,  1.60e+01, -2.00e+00,  6.00e+00,  1.60e+01,  3.82e+12,\n",
       "         8.00e+00],\n",
       "       [ 2.60e+01,  1.70e+01,  1.20e+01, -3.00e+00, -2.00e+00,  3.30e+10,\n",
       "         0.00e+00],\n",
       "       [ 3.20e+01,  2.10e+01,  1.00e+00, -3.00e+00, -1.00e+00,  7.30e+10,\n",
       "         0.00e+00],\n",
       "       [ 2.90e+01,  2.00e+01,  1.00e+00, -3.00e+00, -2.00e+00,  3.40e+10,\n",
       "         0.00e+00],\n",
       "       [ 3.90e+01,  2.90e+01, -2.80e+01,  3.00e+00,  5.00e+00,  3.30e+10,\n",
       "         0.00e+00],\n",
       "       [ 3.90e+01,  2.30e+01,  1.00e+00, -3.00e+00, -1.00e+00,  7.20e+10,\n",
       "         0.00e+00],\n",
       "       [ 2.40e+01,  1.80e+01,  2.00e+00,  2.00e+00, -1.10e+01,  6.40e+10,\n",
       "         0.00e+00],\n",
       "       [ 3.20e+01,  2.10e+01,  1.00e+00, -3.00e+00, -1.00e+00,  3.50e+10,\n",
       "         0.00e+00],\n",
       "       [ 4.20e+01,  2.40e+01,  1.00e+00, -3.00e+00, -1.00e+00,  5.80e+10,\n",
       "         0.00e+00],\n",
       "       [ 2.20e+01,  2.40e+01, -7.00e+00, -1.20e+01, -8.00e+00,  1.56e+11,\n",
       "         0.00e+00],\n",
       "       [ 3.70e+01,  2.20e+01,  1.00e+00, -3.00e+00, -1.00e+00,  2.00e+10,\n",
       "         0.00e+00],\n",
       "       [ 2.60e+01,  1.80e+01,  1.80e+01, -2.00e+00, -4.00e+00,  2.00e+13,\n",
       "         3.30e+01],\n",
       "       [ 4.60e+01,  3.40e+01, -3.50e+01,  2.00e+00, -4.00e+00,  1.36e+11,\n",
       "         0.00e+00],\n",
       "       [ 3.20e+01,  2.20e+01,  2.00e+00, -2.00e+00, -0.00e+00,  3.40e+12,\n",
       "         7.00e+00],\n",
       "       [ 3.20e+01,  2.10e+01,  1.00e+00, -3.00e+00, -1.00e+00,  3.40e+10,\n",
       "         0.00e+00],\n",
       "       [ 3.00e+01,  2.00e+01,  1.00e+00, -3.00e+00, -2.00e+00,  1.40e+11,\n",
       "         0.00e+00],\n",
       "       [ 3.40e+01,  2.00e+01, -1.00e+00,  1.10e+01, -1.00e+01,  1.47e+11,\n",
       "         0.00e+00],\n",
       "       [ 3.70e+01,  1.90e+01, -7.00e+00,  1.60e+01,  9.00e+00,  1.05e+11,\n",
       "         0.00e+00],\n",
       "       [ 3.00e+01,  2.10e+01,  1.00e+00, -3.00e+00, -1.00e+00,  5.40e+11,\n",
       "         1.00e+00],\n",
       "       [ 3.20e+01,  2.10e+01,  1.00e+00, -3.00e+00, -1.00e+00,  9.40e+10,\n",
       "         0.00e+00],\n",
       "       [ 2.30e+01,  1.90e+01,  1.30e+01, -1.30e+01, -2.00e+00,  3.75e+14,\n",
       "         4.40e+02],\n",
       "       [ 3.10e+01,  2.10e+01,  1.00e+01, -1.30e+01,  2.00e+00,  3.90e+10,\n",
       "         0.00e+00],\n",
       "       [ 1.90e+01,  1.90e+01,  1.40e+01, -1.60e+01, -6.00e+00,  2.00e+13,\n",
       "         3.30e+01],\n",
       "       [ 2.60e+01,  1.20e+01,  1.20e+01,  4.00e+00, -1.00e+01,  2.45e+11,\n",
       "         1.00e+00],\n",
       "       [ 3.20e+01,  2.10e+01,  1.00e+00, -3.00e+00, -1.00e+00,  3.40e+10,\n",
       "         0.00e+00],\n",
       "       [ 2.20e+01,  1.90e+01, -8.00e+00,  8.00e+00, -6.00e+00,  1.61e+12,\n",
       "         4.00e+00],\n",
       "       [ 5.90e+01,  3.30e+01, -5.00e+00, -1.10e+01, -3.00e+00,  7.50e+10,\n",
       "         0.00e+00],\n",
       "       [ 3.20e+01,  2.10e+01,  1.00e+00, -3.00e+00, -1.00e+00,  5.30e+10,\n",
       "         0.00e+00],\n",
       "       [ 2.60e+01,  1.90e+01,  2.00e+00, -3.00e+00, -2.00e+00,  2.90e+10,\n",
       "         0.00e+00],\n",
       "       [ 3.80e+01,  2.30e+01,  1.00e+00, -3.00e+00, -1.00e+00,  5.50e+10,\n",
       "         0.00e+00],\n",
       "       [ 3.20e+01,  2.10e+01,  1.00e+00, -3.00e+00, -2.00e+00,  2.60e+10,\n",
       "         0.00e+00],\n",
       "       [ 2.90e+01,  1.60e+01,  1.80e+01, -2.00e+00, -0.00e+00,  6.90e+10,\n",
       "         0.00e+00],\n",
       "       [ 3.40e+01,  2.20e+01,  6.00e+00, -2.00e+00, -2.00e+01,  1.88e+11,\n",
       "         1.00e+00],\n",
       "       [ 2.60e+01,  1.90e+01,  2.00e+00, -3.00e+00, -2.00e+00,  7.80e+10,\n",
       "         0.00e+00],\n",
       "       [ 6.70e+01,  3.10e+01,  1.00e+00, -2.00e+00,  1.00e+00,  4.40e+10,\n",
       "         0.00e+00],\n",
       "       [ 3.20e+01,  2.10e+01,  1.00e+00, -3.00e+00, -2.00e+00,  2.20e+10,\n",
       "         0.00e+00],\n",
       "       [ 4.00e+01,  2.50e+01,  8.00e+00, -1.60e+01, -2.00e+00,  5.50e+10,\n",
       "         0.00e+00],\n",
       "       [ 3.60e+01,  2.20e+01,  1.00e+00, -3.00e+00, -1.00e+00,  4.80e+10,\n",
       "         0.00e+00],\n",
       "       [ 2.50e+01,  1.90e+01,  2.00e+00, -3.00e+00, -2.00e+00,  6.30e+11,\n",
       "         2.00e+00],\n",
       "       [ 2.60e+01,  1.60e+01,  1.60e+01, -9.00e+00,  5.00e+00,  3.90e+11,\n",
       "         1.00e+00],\n",
       "       [ 4.10e+01,  2.40e+01,  1.00e+00, -3.00e+00, -1.00e+00,  1.60e+11,\n",
       "         0.00e+00],\n",
       "       [ 2.10e+01,  1.70e+01,  1.00e+00,  9.00e+00, -8.00e+00,  5.11e+12,\n",
       "         1.00e+01],\n",
       "       [ 2.60e+01,  1.10e+01,  1.60e+01,  1.50e+01, -3.00e+00,  1.20e+11,\n",
       "         0.00e+00],\n",
       "       [ 3.20e+01,  2.10e+01,  1.00e+00, -3.00e+00, -2.00e+00,  2.60e+10,\n",
       "         0.00e+00],\n",
       "       [ 3.10e+01,  1.80e+01,  3.00e+00,  1.30e+01, -1.20e+01,  1.36e+11,\n",
       "         0.00e+00],\n",
       "       [ 3.20e+01,  2.60e+01, -1.10e+01, -8.00e+00, -1.00e+00,  3.20e+10,\n",
       "         0.00e+00],\n",
       "       [ 1.90e+01,  3.00e+01, -3.00e+00, -4.40e+01, -1.00e+01,  3.10e+10,\n",
       "         0.00e+00],\n",
       "       [ 3.50e+01,  2.50e+01, -2.00e+00, -1.60e+01,  1.00e+01,  1.05e+12,\n",
       "         2.00e+00],\n",
       "       [ 4.10e+01,  1.80e+01,  5.00e+00,  1.40e+01,  1.00e+00,  1.07e+12,\n",
       "         2.00e+00],\n",
       "       [ 3.10e+01,  2.00e+01,  1.50e+01, -1.30e+01, -8.00e+00,  4.40e+10,\n",
       "         0.00e+00],\n",
       "       [ 3.20e+01,  2.10e+01,  1.00e+00, -3.00e+00, -1.00e+00,  2.80e+10,\n",
       "         0.00e+00],\n",
       "       [ 2.30e+01,  1.00e+01,  2.10e+01,  2.00e+00,  1.30e+01,  1.18e+11,\n",
       "         0.00e+00],\n",
       "       [ 3.20e+01,  2.10e+01,  1.00e+00, -3.00e+00, -2.00e+00,  2.00e+10,\n",
       "         0.00e+00],\n",
       "       [ 3.80e+01,  2.60e+01,  4.00e+00, -1.40e+01, -1.00e+01,  2.00e+10,\n",
       "         0.00e+00],\n",
       "       [ 3.50e+01,  2.50e+01,  6.00e+00, -1.00e+01, -1.60e+01,  7.20e+10,\n",
       "         0.00e+00],\n",
       "       [ 2.80e+01,  1.60e+01,  7.00e+00,  3.00e+00,  8.00e+00,  6.10e+10,\n",
       "         0.00e+00],\n",
       "       [ 3.20e+01,  2.10e+01,  1.00e+00, -3.00e+00, -1.00e+00,  3.90e+10,\n",
       "         0.00e+00],\n",
       "       [ 3.70e+01,  2.70e+01, -5.00e+00, -1.50e+01,  3.00e+00,  7.80e+10,\n",
       "         0.00e+00],\n",
       "       [ 2.60e+01,  1.80e+01,  0.00e+00, -1.00e+00,  1.30e+01,  7.00e+11,\n",
       "         2.00e+00],\n",
       "       [ 2.70e+01,  1.70e+01,  1.50e+01, -7.00e+00, -4.00e+00,  2.90e+10,\n",
       "         0.00e+00],\n",
       "       [ 2.90e+01,  2.00e+01,  1.00e+00, -3.00e+00, -2.00e+00,  5.80e+10,\n",
       "         0.00e+00],\n",
       "       [ 3.20e+01,  2.10e+01,  1.00e+00, -3.00e+00, -1.00e+00,  6.50e+10,\n",
       "         0.00e+00],\n",
       "       [ 3.20e+01,  2.10e+01,  1.00e+00, -3.00e+00, -2.00e+00,  2.00e+10,\n",
       "         0.00e+00],\n",
       "       [ 3.20e+01,  1.80e+01, -2.00e+00,  6.00e+00,  1.60e+01,  2.80e+11,\n",
       "         1.00e+00],\n",
       "       [ 3.20e+01,  2.10e+01,  1.00e+00, -3.00e+00, -1.00e+00,  1.98e+11,\n",
       "         1.00e+00],\n",
       "       [ 5.00e+01,  2.60e+01,  1.00e+00, -3.00e+00, -0.00e+00,  1.21e+11,\n",
       "         0.00e+00],\n",
       "       [ 3.50e+01,  1.70e+01,  1.00e+00,  1.50e+01,  1.00e+00,  4.70e+11,\n",
       "         1.00e+00],\n",
       "       [ 3.20e+01,  2.10e+01,  1.00e+00, -3.00e+00, -1.00e+00,  3.80e+10,\n",
       "         0.00e+00],\n",
       "       [ 3.20e+01,  2.10e+01,  1.00e+00, -3.00e+00, -1.00e+00,  6.00e+10,\n",
       "         0.00e+00],\n",
       "       [ 3.30e+01,  2.50e+01, -1.20e+01, -5.00e+00,  5.00e+00,  2.50e+10,\n",
       "         0.00e+00],\n",
       "       [ 3.20e+01,  2.10e+01,  1.00e+00, -3.00e+00, -1.00e+00,  1.20e+11,\n",
       "         0.00e+00],\n",
       "       [ 2.90e+01,  2.00e+01, -2.00e+00, -4.00e+00,  1.20e+01,  2.30e+10,\n",
       "         0.00e+00],\n",
       "       [ 3.30e+01,  2.50e+01, -1.40e+01, -2.00e+00,  1.00e+00,  6.40e+10,\n",
       "         0.00e+00],\n",
       "       [ 2.80e+01,  1.50e+01,  3.00e+00,  1.20e+01,  5.00e+00,  2.10e+11,\n",
       "         1.00e+00],\n",
       "       [ 2.40e+01,  2.10e+01, -1.00e+01, -5.00e+00,  1.20e+01,  2.30e+10,\n",
       "         0.00e+00],\n",
       "       [ 3.60e+01,  2.50e+01,  8.00e+00, -1.60e+01, -8.00e+00,  1.73e+11,\n",
       "         0.00e+00],\n",
       "       [ 3.90e+01,  3.30e+01, -8.00e+00, -2.40e+01, -1.40e+01,  6.80e+10,\n",
       "         0.00e+00],\n",
       "       [ 3.60e+01,  2.40e+01,  5.00e+00, -1.20e+01, -1.00e+00,  2.49e+11,\n",
       "         1.00e+00],\n",
       "       [ 2.80e+01,  1.80e+01, -2.00e+00,  1.40e+01, -1.20e+01,  2.44e+11,\n",
       "         1.00e+00],\n",
       "       [ 3.20e+01,  2.10e+01,  1.00e+00, -3.00e+00, -1.00e+00,  4.20e+10,\n",
       "         0.00e+00],\n",
       "       [ 3.20e+01,  2.10e+01,  1.00e+00, -3.00e+00, -1.00e+00,  5.20e+10,\n",
       "         0.00e+00],\n",
       "       [ 3.20e+01,  2.10e+01,  1.00e+00, -3.00e+00, -1.00e+00,  1.43e+11,\n",
       "         0.00e+00],\n",
       "       [ 2.70e+01,  1.70e+01,  1.20e+01, -4.00e+00,  1.00e+00,  1.05e+11,\n",
       "         0.00e+00],\n",
       "       [ 2.70e+01,  2.00e+01,  2.00e+00, -3.00e+00, -2.00e+00,  3.40e+10,\n",
       "         0.00e+00],\n",
       "       [ 3.20e+01,  2.10e+01,  1.00e+00, -3.00e+00, -1.00e+00,  2.29e+11,\n",
       "         1.00e+00],\n",
       "       [ 2.50e+01,  1.90e+01,  2.00e+00, -3.00e+00, -2.00e+00,  4.40e+10,\n",
       "         0.00e+00],\n",
       "       [ 2.70e+01,  2.00e+01,  1.00e+00,  2.00e+00, -1.80e+01,  1.33e+11,\n",
       "         0.00e+00],\n",
       "       [ 3.70e+01,  2.20e+01, -1.50e+01,  1.30e+01,  7.00e+00,  8.80e+10,\n",
       "         0.00e+00],\n",
       "       [ 3.30e+01,  1.90e+01, -1.00e+00,  1.00e+00,  1.70e+01,  1.32e+11,\n",
       "         0.00e+00]])"
      ]
     },
     "execution_count": 10,
     "metadata": {},
     "output_type": "execute_result"
    }
   ],
   "source": [
    "X_test = data1[:, 3:]\n",
    "data3 = np.round(imp.transform(X_test))\n",
    "data3"
   ]
  },
  {
   "cell_type": "code",
   "execution_count": 11,
   "metadata": {},
   "outputs": [
    {
     "data": {
      "text/plain": [
       "Index(['Date/Time - Peak Brightness (UT)', 'Latitude (Deg)', 'Longitude (Deg)',\n",
       "       'Altitude (km)', 'Velocity (km/s)', 'Velocity Components (km/s): vx',\n",
       "       'Velocity Components (km/s): vy', 'Velocity Components (km/s): vz',\n",
       "       'Total Radiated Energy (J)', 'Calculated Total Impact Energy (kt)'],\n",
       "      dtype='object')"
      ]
     },
     "execution_count": 11,
     "metadata": {},
     "output_type": "execute_result"
    }
   ],
   "source": [
    "data.columns"
   ]
  },
  {
   "cell_type": "markdown",
   "metadata": {},
   "source": [
    "Concatenação da parte com dados modificados e da parte com dados que já foram completamente preenchidos."
   ]
  },
  {
   "cell_type": "code",
   "execution_count": 12,
   "metadata": {},
   "outputs": [
    {
     "name": "stdout",
     "output_type": "stream",
     "text": [
      "<class 'pandas.core.frame.DataFrame'>\n",
      "RangeIndex: 92 entries, 0 to 91\n",
      "Data columns (total 10 columns):\n",
      "Date/Time - Peak Brightness (UT)       92 non-null object\n",
      "Latitude (Deg)                         92 non-null object\n",
      "Longitude (Deg)                        92 non-null object\n",
      "Altitude (km)                          92 non-null object\n",
      "Velocity (km/s)                        92 non-null object\n",
      "Velocity Components (km/s): vx         92 non-null object\n",
      "Velocity Components (km/s): vy         92 non-null object\n",
      "Velocity Components (km/s): vz         92 non-null object\n",
      "Total Radiated Energy (J)              92 non-null object\n",
      "Calculated Total Impact Energy (kt)    92 non-null object\n",
      "dtypes: object(10)\n",
      "memory usage: 7.3+ KB\n"
     ]
    }
   ],
   "source": [
    "data4 = np.concatenate((data1[:, :3], data3), axis=1)\n",
    "\n",
    "data5 = pd.DataFrame(data=data4,\n",
    "                    columns=data.columns)\n",
    "\n",
    "data5.info()"
   ]
  },
  {
   "cell_type": "markdown",
   "metadata": {},
   "source": [
    "Como consequência da concatenação, todas as colunas da tabela foram transformadas em objetos não nulos e, portanto, é necessário converter novamente para os tipos originais."
   ]
  },
  {
   "cell_type": "code",
   "execution_count": 13,
   "metadata": {},
   "outputs": [
    {
     "name": "stdout",
     "output_type": "stream",
     "text": [
      "<class 'pandas.core.frame.DataFrame'>\n",
      "RangeIndex: 92 entries, 0 to 91\n",
      "Data columns (total 10 columns):\n",
      "Date/Time - Peak Brightness (UT)       92 non-null object\n",
      "Latitude (Deg)                         92 non-null object\n",
      "Longitude (Deg)                        92 non-null object\n",
      "Altitude (km)                          92 non-null float64\n",
      "Velocity (km/s)                        92 non-null float64\n",
      "Velocity Components (km/s): vx         92 non-null float64\n",
      "Velocity Components (km/s): vy         92 non-null float64\n",
      "Velocity Components (km/s): vz         92 non-null float64\n",
      "Total Radiated Energy (J)              92 non-null float64\n",
      "Calculated Total Impact Energy (kt)    92 non-null float64\n",
      "dtypes: float64(7), object(3)\n",
      "memory usage: 7.3+ KB\n"
     ]
    }
   ],
   "source": [
    "convert = ['Altitude (km)',\n",
    "           'Velocity (km/s)',\n",
    "           'Velocity Components (km/s): vx',\n",
    "          'Velocity Components (km/s): vy',\n",
    "          'Velocity Components (km/s): vz',\n",
    "          'Total Radiated Energy (J)', \n",
    "          'Calculated Total Impact Energy (kt)']\n",
    "\n",
    "data5[convert] = data5[convert].apply(pd.to_numeric)\n",
    "\n",
    "data5.astype({'Total Radiated Energy (J)': 'int64'}).dtypes\n",
    "\n",
    "data5.info()"
   ]
  },
  {
   "cell_type": "code",
   "execution_count": 14,
   "metadata": {},
   "outputs": [
    {
     "data": {
      "text/html": [
       "<div>\n",
       "<style scoped>\n",
       "    .dataframe tbody tr th:only-of-type {\n",
       "        vertical-align: middle;\n",
       "    }\n",
       "\n",
       "    .dataframe tbody tr th {\n",
       "        vertical-align: top;\n",
       "    }\n",
       "\n",
       "    .dataframe thead th {\n",
       "        text-align: right;\n",
       "    }\n",
       "</style>\n",
       "<table border=\"1\" class=\"dataframe\">\n",
       "  <thead>\n",
       "    <tr style=\"text-align: right;\">\n",
       "      <th></th>\n",
       "      <th>Altitude (km)</th>\n",
       "      <th>Velocity (km/s)</th>\n",
       "      <th>Velocity Components (km/s): vx</th>\n",
       "      <th>Velocity Components (km/s): vy</th>\n",
       "      <th>Velocity Components (km/s): vz</th>\n",
       "      <th>Total Radiated Energy (J)</th>\n",
       "      <th>Calculated Total Impact Energy (kt)</th>\n",
       "    </tr>\n",
       "  </thead>\n",
       "  <tbody>\n",
       "    <tr>\n",
       "      <td>Altitude (km)</td>\n",
       "      <td>1.000000</td>\n",
       "      <td>0.628922</td>\n",
       "      <td>-0.279122</td>\n",
       "      <td>0.001983</td>\n",
       "      <td>0.010383</td>\n",
       "      <td>-0.146868</td>\n",
       "      <td>-0.155159</td>\n",
       "    </tr>\n",
       "    <tr>\n",
       "      <td>Velocity (km/s)</td>\n",
       "      <td>0.628922</td>\n",
       "      <td>1.000000</td>\n",
       "      <td>-0.598226</td>\n",
       "      <td>-0.550091</td>\n",
       "      <td>-0.259398</td>\n",
       "      <td>-0.056752</td>\n",
       "      <td>-0.059404</td>\n",
       "    </tr>\n",
       "    <tr>\n",
       "      <td>Velocity Components (km/s): vx</td>\n",
       "      <td>-0.279122</td>\n",
       "      <td>-0.598226</td>\n",
       "      <td>1.000000</td>\n",
       "      <td>-0.071825</td>\n",
       "      <td>-0.130064</td>\n",
       "      <td>0.163155</td>\n",
       "      <td>0.170910</td>\n",
       "    </tr>\n",
       "    <tr>\n",
       "      <td>Velocity Components (km/s): vy</td>\n",
       "      <td>0.001983</td>\n",
       "      <td>-0.550091</td>\n",
       "      <td>-0.071825</td>\n",
       "      <td>1.000000</td>\n",
       "      <td>0.228595</td>\n",
       "      <td>-0.127386</td>\n",
       "      <td>-0.128682</td>\n",
       "    </tr>\n",
       "    <tr>\n",
       "      <td>Velocity Components (km/s): vz</td>\n",
       "      <td>0.010383</td>\n",
       "      <td>-0.259398</td>\n",
       "      <td>-0.130064</td>\n",
       "      <td>0.228595</td>\n",
       "      <td>1.000000</td>\n",
       "      <td>-0.024915</td>\n",
       "      <td>-0.030720</td>\n",
       "    </tr>\n",
       "    <tr>\n",
       "      <td>Total Radiated Energy (J)</td>\n",
       "      <td>-0.146868</td>\n",
       "      <td>-0.056752</td>\n",
       "      <td>0.163155</td>\n",
       "      <td>-0.127386</td>\n",
       "      <td>-0.024915</td>\n",
       "      <td>1.000000</td>\n",
       "      <td>0.999349</td>\n",
       "    </tr>\n",
       "    <tr>\n",
       "      <td>Calculated Total Impact Energy (kt)</td>\n",
       "      <td>-0.155159</td>\n",
       "      <td>-0.059404</td>\n",
       "      <td>0.170910</td>\n",
       "      <td>-0.128682</td>\n",
       "      <td>-0.030720</td>\n",
       "      <td>0.999349</td>\n",
       "      <td>1.000000</td>\n",
       "    </tr>\n",
       "  </tbody>\n",
       "</table>\n",
       "</div>"
      ],
      "text/plain": [
       "                                     Altitude (km)  Velocity (km/s)  \\\n",
       "Altitude (km)                             1.000000         0.628922   \n",
       "Velocity (km/s)                           0.628922         1.000000   \n",
       "Velocity Components (km/s): vx           -0.279122        -0.598226   \n",
       "Velocity Components (km/s): vy            0.001983        -0.550091   \n",
       "Velocity Components (km/s): vz            0.010383        -0.259398   \n",
       "Total Radiated Energy (J)                -0.146868        -0.056752   \n",
       "Calculated Total Impact Energy (kt)      -0.155159        -0.059404   \n",
       "\n",
       "                                     Velocity Components (km/s): vx  \\\n",
       "Altitude (km)                                             -0.279122   \n",
       "Velocity (km/s)                                           -0.598226   \n",
       "Velocity Components (km/s): vx                             1.000000   \n",
       "Velocity Components (km/s): vy                            -0.071825   \n",
       "Velocity Components (km/s): vz                            -0.130064   \n",
       "Total Radiated Energy (J)                                  0.163155   \n",
       "Calculated Total Impact Energy (kt)                        0.170910   \n",
       "\n",
       "                                     Velocity Components (km/s): vy  \\\n",
       "Altitude (km)                                              0.001983   \n",
       "Velocity (km/s)                                           -0.550091   \n",
       "Velocity Components (km/s): vx                            -0.071825   \n",
       "Velocity Components (km/s): vy                             1.000000   \n",
       "Velocity Components (km/s): vz                             0.228595   \n",
       "Total Radiated Energy (J)                                 -0.127386   \n",
       "Calculated Total Impact Energy (kt)                       -0.128682   \n",
       "\n",
       "                                     Velocity Components (km/s): vz  \\\n",
       "Altitude (km)                                              0.010383   \n",
       "Velocity (km/s)                                           -0.259398   \n",
       "Velocity Components (km/s): vx                            -0.130064   \n",
       "Velocity Components (km/s): vy                             0.228595   \n",
       "Velocity Components (km/s): vz                             1.000000   \n",
       "Total Radiated Energy (J)                                 -0.024915   \n",
       "Calculated Total Impact Energy (kt)                       -0.030720   \n",
       "\n",
       "                                     Total Radiated Energy (J)  \\\n",
       "Altitude (km)                                        -0.146868   \n",
       "Velocity (km/s)                                      -0.056752   \n",
       "Velocity Components (km/s): vx                        0.163155   \n",
       "Velocity Components (km/s): vy                       -0.127386   \n",
       "Velocity Components (km/s): vz                       -0.024915   \n",
       "Total Radiated Energy (J)                             1.000000   \n",
       "Calculated Total Impact Energy (kt)                   0.999349   \n",
       "\n",
       "                                     Calculated Total Impact Energy (kt)  \n",
       "Altitude (km)                                                  -0.155159  \n",
       "Velocity (km/s)                                                -0.059404  \n",
       "Velocity Components (km/s): vx                                  0.170910  \n",
       "Velocity Components (km/s): vy                                 -0.128682  \n",
       "Velocity Components (km/s): vz                                 -0.030720  \n",
       "Total Radiated Energy (J)                                       0.999349  \n",
       "Calculated Total Impact Energy (kt)                             1.000000  "
      ]
     },
     "execution_count": 14,
     "metadata": {},
     "output_type": "execute_result"
    }
   ],
   "source": [
    "data5.corr()"
   ]
  },
  {
   "cell_type": "code",
   "execution_count": 15,
   "metadata": {},
   "outputs": [
    {
     "data": {
      "image/png": "[encoded data removed]",
      "text/plain": [
       "<Figure size 432x288 with 1 Axes>"
      ]
     },
     "metadata": {
      "needs_background": "light"
     },
     "output_type": "display_data"
    }
   ],
   "source": [
    "dc = list(data5.columns)\n",
    "\n",
    "count = data5.count()\n",
    "\n",
    "values = []\n",
    "for c in count:\n",
    "    values.append(c)\n",
    "\n",
    "y_pos = np.arange(len(dc))\n",
    "\n",
    "plt.bar(y_pos, values)\n",
    "plt.xticks(y_pos, dc, rotation=90)\n",
    "\n",
    "plt.show()    "
   ]
  },
  {
   "cell_type": "code",
   "execution_count": 16,
   "metadata": {},
   "outputs": [
    {
     "data": {
      "image/png": "[encoded data removed]",
      "text/plain": [
       "<Figure size 432x288 with 1 Axes>"
      ]
     },
     "metadata": {},
     "output_type": "display_data"
    }
   ],
   "source": [
    "perc_m = (100*((max(values)*len(dc)) - sum(values)))/(max(values)*len(dc))\n",
    "perc_e = 100-perc_m\n",
    "\n",
    "\n",
    "labels = 'Missing', 'Present'\n",
    "sizes = [perc_m, perc_e]\n",
    "explode = (0, 0.1)  # only \"explode\" the 2nd slice (i.e. 'Hogs')\n",
    "\n",
    "fig1, ax1 = plt.subplots()\n",
    "ax1.pie(sizes, explode=explode, labels=labels, autopct='%1.1f%%',\n",
    "        shadow=True, startangle=90)\n",
    "ax1.axis('equal')  # Equal aspect ratio ensures that pie is drawn as a circle.\n",
    "\n",
    "plt.show()"
   ]
  },
  {
   "cell_type": "code",
   "execution_count": null,
   "metadata": {},
   "outputs": [],
   "source": [
    "data5"
   ]
  }
 ],
 "metadata": {
  "kernelspec": {
   "display_name": "Python 3",
   "language": "python",
   "name": "python3"
  },
  "language_info": {
   "codemirror_mode": {
    "name": "ipython",
    "version": 3
   },
   "file_extension": ".py",
   "mimetype": "text/x-python",
   "name": "python",
   "nbconvert_exporter": "python",
   "pygments_lexer": "ipython3",
   "version": "3.7.4"
  }
 },
 "nbformat": 4,
 "nbformat_minor": 2
}
