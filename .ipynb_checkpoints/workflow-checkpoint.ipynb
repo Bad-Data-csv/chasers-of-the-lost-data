{
 "cells": [
  {
   "cell_type": "code",
   "execution_count": 1,
   "metadata": {},
   "outputs": [],
   "source": [
    "import pandas as pd"
   ]
  },
  {
   "cell_type": "code",
   "execution_count": 4,
   "metadata": {},
   "outputs": [],
   "source": [
    "data = pd.read_csv(\"data/Fireball_And_Bolide_Reports.csv\")"
   ]
  },
  {
   "cell_type": "code",
   "execution_count": 5,
   "metadata": {},
   "outputs": [
    {
     "name": "stdout",
     "output_type": "stream",
     "text": [
      "<class 'pandas.core.frame.DataFrame'>\n",
      "RangeIndex: 92 entries, 0 to 91\n",
      "Data columns (total 10 columns):\n",
      "Date/Time - Peak Brightness (UT)       92 non-null object\n",
      "Latitude (Deg)                         92 non-null object\n",
      "Longitude (Deg)                        92 non-null object\n",
      "Altitude (km)                          68 non-null float64\n",
      "Velocity (km/s)                        7 non-null float64\n",
      "Velocity Components (km/s): vx         52 non-null float64\n",
      "Velocity Components (km/s): vy         52 non-null float64\n",
      "Velocity Components (km/s): vz         52 non-null float64\n",
      "Total Radiated Energy (J)              92 non-null int64\n",
      "Calculated Total Impact Energy (kt)    92 non-null float64\n",
      "dtypes: float64(6), int64(1), object(3)\n",
      "memory usage: 7.3+ KB\n"
     ]
    }
   ],
   "source": [
    "data.info()"
   ]
  },
  {
   "cell_type": "code",
   "execution_count": null,
   "metadata": {},
   "outputs": [],
   "source": []
  }
 ],
 "metadata": {
  "kernelspec": {
   "display_name": "Python 2",
   "language": "python",
   "name": "python2"
  },
  "language_info": {
   "codemirror_mode": {
    "name": "ipython",
    "version": 2
   },
   "file_extension": ".py",
   "mimetype": "text/x-python",
   "name": "python",
   "nbconvert_exporter": "python",
   "pygments_lexer": "ipython2",
   "version": "2.7.16"
  }
 },
 "nbformat": 4,
 "nbformat_minor": 2
}
